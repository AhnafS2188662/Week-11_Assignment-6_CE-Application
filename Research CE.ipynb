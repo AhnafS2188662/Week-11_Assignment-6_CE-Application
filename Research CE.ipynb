{
 "cells": [
  {
   "cell_type": "code",
   "execution_count": null,
   "id": "c8681a01",
   "metadata": {},
   "outputs": [],
   "source": [
    "# importing the module\n",
    "from chempy.util import periodic\n",
    "\n",
    "# number of elements to be fetched\n",
    "n = 10\n",
    "\n",
    "# displaying the information\n",
    "print(\"Atomic No.\\tName\\t\\tSymbol\\t\\tMass\")\n",
    "\n",
    "# fetching the information for\n",
    "# the first 10 elements\n",
    "for i in range(1, n + 1):\n",
    "\n",
    "\t# displaying the atomic number\n",
    "\tprint(i, end = \"\\t\\t\")\n",
    "\n",
    "\t# displaying the name\n",
    "\tif len(periodic.names[i]) > 7:\n",
    "\t\tprint(periodic.names[i], end = \"\\t\")\n",
    "\telse:\n",
    "\t\tprint(periodic.names[i], end = \"\\t\\t\")\n",
    "\n",
    "\t# displaying the symbol\n",
    "\tprint(periodic.symbols[i], end = \"\\t\\t\")\n",
    "\n",
    "\t# displaying the mass\n",
    "\tprint(periodic.relative_atomic_masses[i])"
   ]
  }
 ],
 "metadata": {
  "kernelspec": {
   "display_name": "Python 3 (ipykernel)",
   "language": "python",
   "name": "python3"
  },
  "language_info": {
   "codemirror_mode": {
    "name": "ipython",
    "version": 3
   },
   "file_extension": ".py",
   "mimetype": "text/x-python",
   "name": "python",
   "nbconvert_exporter": "python",
   "pygments_lexer": "ipython3",
   "version": "3.11.5"
  }
 },
 "nbformat": 4,
 "nbformat_minor": 5
}
